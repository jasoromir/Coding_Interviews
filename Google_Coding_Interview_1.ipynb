{
  "nbformat": 4,
  "nbformat_minor": 0,
  "metadata": {
    "colab": {
      "name": "Google Coding Interview 1.ipynb",
      "provenance": [],
      "collapsed_sections": [],
      "authorship_tag": "ABX9TyOB+g5OwsrxemeJlbuhtseT",
      "include_colab_link": true
    },
    "kernelspec": {
      "name": "python3",
      "display_name": "Python 3"
    }
  },
  "cells": [
    {
      "cell_type": "markdown",
      "metadata": {
        "id": "view-in-github",
        "colab_type": "text"
      },
      "source": [
        "<a href=\"https://colab.research.google.com/github/jasoromir/Coding_Interviews/blob/main/Google_Coding_Interview_1.ipynb\" target=\"_parent\"><img src=\"https://colab.research.google.com/assets/colab-badge.svg\" alt=\"Open In Colab\"/></a>"
      ]
    },
    {
      "cell_type": "markdown",
      "metadata": {
        "id": "-TptewkSDJXj"
      },
      "source": [
        "# Google Coding Interview With A Normal Software Engineer\r\n",
        "\r\n",
        "This exercise is based on the Youtube [video](https://www.youtube.com/watch?v=rw4s4M3hFfs&ab_channel=Cl%C3%A9mentMihailescu) of former Google Engineer **Clément Mihailescu**.\r\n",
        "\r\n",
        "After the introduction of the problem, I stopped the video and solved it on my own.\r\n",
        "\r\n",
        "\r\n"
      ]
    },
    {
      "cell_type": "markdown",
      "metadata": {
        "id": "VWIPoGLMDnwy"
      },
      "source": [
        "The introduction would reads as follows:\r\n",
        "\r\n",
        "You are moving to a new location and want to find the appartment where you are going to move. \r\n",
        "You found a nice street and now you want to find the perfect block in that street where you will moving into.\r\n",
        "To find the perfect location we value different facilities, such as gym, shops, school, office, or others. Thus, the perfect location for us would be that which minimize the distance we would have to walk to our required facilities.\r\n",
        "\r\n",
        "So an example of the **inputs** of this problem would be: \r\n",
        "\r\n",
        "Given a list of *blocks*, where each block contains the information of whether a specific facility is present in that block. And a list of *requirements*.\r\n",
        "We need to find the block with minimum walking distance to all of our requirements.\r\n",
        "\r\n",
        "In this case, block number 0 would be at a 1block disntace from a gym, a 0 block distance from a School, and a 4blocks distnace from an Office. So it would have a maximum walking distance of 4.\r\n",
        "The best block number would be block number 3, with 1 block distance to Gym and Office and 0 block distance to School. Then maximum distnace would be 1."
      ]
    },
    {
      "cell_type": "code",
      "metadata": {
        "id": "prCFrIBd41Y4"
      },
      "source": [
        "# Input example\r\n",
        "Block = [\r\n",
        "         {\r\n",
        "             'Gym': False,\r\n",
        "          'School': True,\r\n",
        "          'Office': False\r\n",
        "          },\r\n",
        "         {\r\n",
        "             'Gym': True,\r\n",
        "          'School': False,\r\n",
        "          'Office': False\r\n",
        "          },\r\n",
        "         {\r\n",
        "             'Gym': True,\r\n",
        "          'School': True,\r\n",
        "          'Office': False\r\n",
        "          },\r\n",
        "         {\r\n",
        "             'Gym': False,\r\n",
        "          'School': True,\r\n",
        "          'Office': False\r\n",
        "          },\r\n",
        "         {\r\n",
        "             'Gym': False,\r\n",
        "          'School': True,\r\n",
        "          'Office': True\r\n",
        "          }\r\n",
        "         \r\n",
        "]\r\n",
        "\r\n",
        "Reqs = ['Gym', 'School', 'Office']"
      ],
      "execution_count": null,
      "outputs": []
    },
    {
      "cell_type": "markdown",
      "metadata": {
        "id": "cjsuEKkoGj33"
      },
      "source": [
        "Questions that I would like to have asked:\r\n",
        "\r\n",
        "\r\n",
        "*   What happens if none of the blocks contain a specified facility (i.e. no gym in any block)?\r\n",
        "\r\n",
        "*   What happens if there are more than one block that have the same maximum walking distance?\r\n",
        "\r\n",
        "Since I don't have the answer to that, let's first solve the problem considering that those cases cannot happen, and then include possible solutions.\r\n",
        "\r\n"
      ]
    },
    {
      "cell_type": "markdown",
      "metadata": {
        "id": "t3SsfJlNIEst"
      },
      "source": [
        "Let us first visualize the steps to solve this problem.\r\n",
        "\r\n",
        "Our input could be represented by a matrix such:\r\n",
        "\r\n",
        "| i | Gym | School | Office|  \r\n",
        "|---|-----|--------|-------|  \r\n",
        " 0  |  0  |   1    |   0   |  \r\n",
        " 1  |  1  |   0    |   0   |  \r\n",
        " 2  |  1  |   1    |   0   |   \r\n",
        " 3  |  0  |   1    |   0   |   \r\n",
        " 4  |  0  |   1    |   1   |   \r\n",
        "\r\n",
        " From which we can compute the distances of each block to the nearest facilty:\r\n",
        "\r\n",
        "| i | Gym | School | Office|  Max_D |\r\n",
        "|---|-----|--------|-------|--------| \r\n",
        " 0  |  1  |   0    |   4   |  4\r\n",
        " 1  |  0  |   1    |   3   |  3\r\n",
        " 2  |  0  |   0    |   2   |  2\r\n",
        " 3  |  1  |   0    |   1   |  1\r\n",
        " 4  |  2  |   0    |   0   |  2\r\n",
        "\r\n",
        " And return the block that satisfies the minimum walking distance -> **block 3**"
      ]
    },
    {
      "cell_type": "markdown",
      "metadata": {
        "id": "dSpuzgnYKqAb"
      },
      "source": [
        "Then we can initialize the variables we are going to need"
      ]
    },
    {
      "cell_type": "code",
      "metadata": {
        "id": "Gygym7r9Kv_D"
      },
      "source": [
        "L = len(Block)       # Number of blocks in our street\r\n",
        "unseen_dist = L + 1  # High number to initialize values of facilities we have not seen yet \r\n",
        "distance_matrix = [0]*L #Matrix where we will store the distances to each facility\r\n",
        "max_dist = [0]*L     # Vector of max_distances."
      ],
      "execution_count": null,
      "outputs": []
    },
    {
      "cell_type": "markdown",
      "metadata": {
        "id": "LPSimgOpLeJo"
      },
      "source": [
        "To compute our matrix of distances, we will perform 2 passes, one forward and one backwards.\r\n",
        "\r\n",
        "In the forward pass, we will update the distances of the elements we have seen in previous blocks.\r\n",
        "\r\n",
        "| i | Gym | School | Office| \r\n",
        "|---|-----|--------|-------|\r\n",
        " 0  |  6  |   0    |   6   |  \r\n",
        " 1  |  0  |   1    |   6   |  \r\n",
        " 2  |  0  |   0    |   6   |  \r\n",
        " 3  |  1  |   0    |   6   |  \r\n",
        " 4  |  2  |   0    |   0   | \r\n",
        "\r\n",
        " At the end of the first pass, the last block have been compared to all the other blocks. Now we run the search backwards to update the distances in this other direction.\r\n",
        "\r\n",
        "| i | Gym | School | Office| \r\n",
        "|---|-----|--------|-------|\r\n",
        " 0  |  1  |   0    |   4   |  \r\n",
        " 1  |  0  |   1    |   3   |  \r\n",
        " 2  |  0  |   0    |   2   |  \r\n",
        " 3  |  1  |   0    |   1   |  \r\n",
        " 4  |  2  |   0    |   0   |  \r\n",
        "\r\n",
        " Also, since the information given in the list *blocks* may contain more facilities that the ones in our requirements, we will only consider those in the latter to compute the distances."
      ]
    },
    {
      "cell_type": "code",
      "metadata": {
        "colab": {
          "base_uri": "https://localhost:8080/"
        },
        "id": "SJr_Q6-s41_f",
        "outputId": "bbc988f4-8745-4d74-9298-2c751ed11172"
      },
      "source": [
        "# Forward pass\r\n",
        "\r\n",
        "# 1) For each block, go through all the facilities.\r\n",
        "# 2) If the facility is in our requirement, then:\r\n",
        "# 3) If the facility is present in the current block set distance to 0.\r\n",
        "# 4) Else If we are in the first block set distance to maximum\r\n",
        "# 5) Else set distance to the minimum among \"max_distance\" or distance of the previosu block + 1\r\n",
        "\r\n",
        "for idx_block, block in enumerate(Block):\r\n",
        "  distance_matrix[idx_block] = {}\r\n",
        "  for facility, value in block.items():\r\n",
        "    if facility in Reqs:\r\n",
        "      if value:\r\n",
        "        distance_matrix[idx_block][facility] = 0\r\n",
        "      elif idx_block == 0:\r\n",
        "        distance_matrix[idx_block][facility] = unseen_dist\r\n",
        "      else:\r\n",
        "        distance_matrix[idx_block][facility] = min(unseen_dist, distance_matrix[idx_block-1][facility]+1)\r\n",
        "\r\n",
        "# Check matrix so far:\r\n",
        "distance_matrix\r\n",
        "\r\n"
      ],
      "execution_count": null,
      "outputs": [
        {
          "output_type": "execute_result",
          "data": {
            "text/plain": [
              "[{'Gym': 100, 'Office': 100, 'School': 0},\n",
              " {'Gym': 0, 'Office': 100, 'School': 1},\n",
              " {'Gym': 0, 'Office': 100, 'School': 0},\n",
              " {'Gym': 1, 'Office': 100, 'School': 0},\n",
              " {'Gym': 2, 'Office': 0, 'School': 0}]"
            ]
          },
          "metadata": {
            "tags": []
          },
          "execution_count": 52
        }
      ]
    },
    {
      "cell_type": "code",
      "metadata": {
        "colab": {
          "base_uri": "https://localhost:8080/"
        },
        "id": "RrWelab_42DT",
        "outputId": "d6afdfbe-dacb-4004-e738-762b6bd99100"
      },
      "source": [
        "# Backward pass\r\n",
        "\r\n",
        "# 1) Go through all the blocks, starting at the end\r\n",
        "# 2) If the facility is in our requirement, then:\r\n",
        "# We dont need to check if facility is true or flase as we already did that.\r\n",
        "# 3) If we are in the last block we dont need to update anything and can exctract the maximum disntace\r\n",
        "# 4) Else update distances to the minimum among \"current_distance\" or distance of the previosu block + 1\r\n",
        "# 5) Exctract the maximum disntace of that block\r\n",
        "\r\n",
        "for idx_block, block in reversed(list(enumerate(Block))):\r\n",
        "  for facility, value in block.items():\r\n",
        "    if facility in Reqs:\r\n",
        "      if idx_block == L-1:\r\n",
        "        max_dist[idx_block] = max(max_dist[idx_block], distance_matrix[idx_block][facility])\r\n",
        "      else:\r\n",
        "        distance_matrix[idx_block][facility] = min(distance_matrix[idx_block][facility], distance_matrix[idx_block+1][facility]+1)\r\n",
        "        max_dist[idx_block] = max(max_dist[idx_block], distance_matrix[idx_block][facility])\r\n",
        "\r\n",
        "# Check distance matrix        \r\n",
        "print(distance_matrix)\r\n",
        "\r\n",
        "# Check disntace vector\r\n",
        "print(max_dist)\r\n",
        "\r\n",
        "# Print solution\r\n",
        "print('The minimum distnace is: ' + str(min(max_dist)) + ' for block number: ', max_dist.index(min(max_dist)))\r\n"
      ],
      "execution_count": null,
      "outputs": [
        {
          "output_type": "stream",
          "text": [
            "[{'Gym': 1, 'School': 0, 'Office': 4}, {'Gym': 0, 'School': 1, 'Office': 3}, {'Gym': 0, 'School': 0, 'Office': 2}, {'Gym': 1, 'School': 0, 'Office': 1}, {'Gym': 2, 'School': 0, 'Office': 0}]\n",
            "[4, 3, 2, 1, 2]\n",
            "The minimum distnace is: 1 for block number:  3\n"
          ],
          "name": "stdout"
        }
      ]
    },
    {
      "cell_type": "code",
      "metadata": {
        "id": "Svm7N8Ix9nCV"
      },
      "source": [
        ""
      ],
      "execution_count": null,
      "outputs": []
    },
    {
      "cell_type": "markdown",
      "metadata": {
        "id": "Rel2hLp1P-tZ"
      },
      "source": [
        "The running time of this solution would be Big-O(n x m), as we have to run 2 times a nested for loop. Where *N* is the length of the block list and *M* the number of facilities."
      ]
    },
    {
      "cell_type": "code",
      "metadata": {
        "id": "oj0u7Fz0Qgud"
      },
      "source": [
        ""
      ],
      "execution_count": null,
      "outputs": []
    },
    {
      "cell_type": "markdown",
      "metadata": {
        "id": "8h5xSZcqmFTm"
      },
      "source": [
        "# SECOND PART"
      ]
    },
    {
      "cell_type": "code",
      "metadata": {
        "id": "i2zNSNX7mHy_"
      },
      "source": [
        "Log = [\r\n",
        " [True, True, True, False, False],\r\n",
        " [True, True, True, True,  False],\r\n",
        " [True, True, True, True,  True, True, False, False, False],\r\n",
        " [True, False, False, False, False, False],\r\n",
        " [True, True, True, True,  True, True, True, True, True, True,  True, True, False],\r\n",
        " [True, False],\r\n",
        " [True, True, True, True, False, False]\r\n",
        "]"
      ],
      "execution_count": null,
      "outputs": []
    },
    {
      "cell_type": "code",
      "metadata": {
        "id": "3nKvxgF5mLda"
      },
      "source": [
        "num_decrease = 0\r\n",
        "max_duration = 0\r\n",
        "prev_performance = 100"
      ],
      "execution_count": null,
      "outputs": []
    },
    {
      "cell_type": "code",
      "metadata": {
        "id": "uHa1denomOPH"
      },
      "source": [
        "\r\n",
        "for el in Log:\r\n",
        "  L = len(el)\r\n",
        "  green = sum(el)\r\n",
        "  percentage_green = green/L*100\r\n",
        "  # If we are given the length of each element of the list, we can implement a binary search algorithm to speed this step up\r\n",
        "\r\n",
        "  if percentage_green < prev_performance:\r\n",
        "    num_decrease += 1\r\n",
        "    max_duration = max(max_duration, num_decrease)\r\n",
        "  else:\r\n",
        "    num_decrease = 0\r\n",
        "  prev_performance = percentage_green\r\n",
        "\r\n",
        "max_duration"
      ],
      "execution_count": null,
      "outputs": []
    }
  ]
}