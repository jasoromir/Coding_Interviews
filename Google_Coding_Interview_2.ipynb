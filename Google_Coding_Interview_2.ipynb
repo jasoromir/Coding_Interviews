{
  "nbformat": 4,
  "nbformat_minor": 0,
  "metadata": {
    "colab": {
      "name": "Google Coding Interview 2.ipynb",
      "provenance": [],
      "collapsed_sections": [],
      "authorship_tag": "ABX9TyMnNg8qfpC5Ol3V/PtxvSPT",
      "include_colab_link": true
    },
    "kernelspec": {
      "name": "python3",
      "display_name": "Python 3"
    }
  },
  "cells": [
    {
      "cell_type": "markdown",
      "metadata": {
        "id": "view-in-github",
        "colab_type": "text"
      },
      "source": [
        "<a href=\"https://colab.research.google.com/github/jasoromir/Coding_Interviews/blob/main/Google_Coding_Interview_2.ipynb\" target=\"_parent\"><img src=\"https://colab.research.google.com/assets/colab-badge.svg\" alt=\"Open In Colab\"/></a>"
      ]
    },
    {
      "cell_type": "markdown",
      "metadata": {
        "id": "nwayNgy7mh6d"
      },
      "source": [
        "# Big String & Small String"
      ]
    },
    {
      "cell_type": "markdown",
      "metadata": {
        "id": "zre3qm6SaXIH"
      },
      "source": [
        "We are given two strings. One BigString and one SmallString.  \r\n",
        "We want to find the number of permutations of the SmallString within the BigString.  \r\n",
        "Take the following as an example:\r\n",
        "\r\n",
        "**BigString**: 'cbabcacabca'  \r\n",
        "**SmallString** : 'abc'  \r\n",
        "*Permutations*: 6 -> cba, abc, bca, cab, abc, bca"
      ]
    },
    {
      "cell_type": "code",
      "metadata": {
        "id": "OkI6yhFBYpue"
      },
      "source": [
        "BigString = 'cbabcacabca'\r\n",
        "SmallString = 'abc'\r\n",
        "# Find number of permutations of the SmallString in the Big String\r\n",
        "# Solution: 6 // cba, abc, bca, cab, abc, bca (they can be repeated)"
      ],
      "execution_count": 27,
      "outputs": []
    },
    {
      "cell_type": "markdown",
      "metadata": {
        "id": "9DID8DNka-iS"
      },
      "source": [
        "Thought process to solve this exercise:\r\n",
        "\r\n",
        "1) Divide the *BigString* in chunks of the same size as the *SmallString* and check if that *subString* is a valid permutation.  \r\n",
        "\r\n",
        "2) The brute force way of doing this would be to compute that total number of possible permutations of the *SmallString* and check if the *SubString* is contained within that set. However, this is extremely ineficient.  \r\n",
        "\r\n",
        "3) Another way to approach this would be to count the number of times a given char is present in both the *SmallString* and each *SubString*. If the counters of the characters in each string are the same we can add 1 to the counter of permutations.\r\n",
        "\r\n",
        "4) One way of improving the performance of the algorithm would be to count the characters of the *SmallString* first. THen, instead of counting all the characters of each *subString* taken from the *BigString* and then comparing the total counts, we can start counting, and if we find a character that was not part of the *SmallString* or the count of a character is supperior to the count of the same character in the *SmallString*, we can determine that this *subString* will not be a valid permutation and stop counting, saving time and memory."
      ]
    },
    {
      "cell_type": "markdown",
      "metadata": {
        "id": "QpGjQ55HdGAu"
      },
      "source": [
        "## First solution: Create two dictionaries with the total count of characters"
      ]
    },
    {
      "cell_type": "code",
      "metadata": {
        "id": "L0Lq59NYbtNb"
      },
      "source": [
        "# Given a string, compute a dictionary with the count of its characters\r\n",
        "def string_to_dict(string):\r\n",
        "  count_chars = {}\r\n",
        "  for char in string:\r\n",
        "    count_chars[char] = count_chars.get(char, 0) + 1\r\n",
        "  return count_chars\r\n"
      ],
      "execution_count": 9,
      "outputs": []
    },
    {
      "cell_type": "code",
      "metadata": {
        "id": "QKta_GERadNE"
      },
      "source": [
        "# Check if both dictionaries have the same value of counts. If true, return permutation\r\n",
        "def compare_dict(small_dict, sub_dict):\r\n",
        "  permutation = True\r\n",
        "  for char, count in small_dict.items():\r\n",
        "    if sub_dict.get(char,0) != count:\r\n",
        "      permutation = False\r\n",
        "      break\r\n",
        "  return permutation"
      ],
      "execution_count": 10,
      "outputs": []
    },
    {
      "cell_type": "code",
      "metadata": {
        "colab": {
          "base_uri": "https://localhost:8080/"
        },
        "id": "U4__sacTbGNU",
        "outputId": "1370a161-f287-4c68-e938-64dd98f359ac"
      },
      "source": [
        "# Given a BigString and SmallString, compute the number of permutations\r\n",
        "def main(BigString, SmallString):\r\n",
        "  num_permutations = 0\r\n",
        "  small_dict = string_to_dict(SmallString)\r\n",
        "\r\n",
        "  for idx_char, _ in enumerate(BigString):\r\n",
        "    if idx_char <= (len(BigString)-len(SmallString)):\r\n",
        "      subString = BigString[idx_char:idx_char+len(SmallString)]\r\n",
        "      sub_dict = string_to_dict(subString)\r\n",
        "\r\n",
        "      if compare_dict(small_dict, sub_dict):\r\n",
        "        num_permutations += 1\r\n",
        "\r\n",
        "  return num_permutations\r\n",
        "\r\n",
        "print(main(BigString, SmallString))"
      ],
      "execution_count": 28,
      "outputs": [
        {
          "output_type": "stream",
          "text": [
            "7\n"
          ],
          "name": "stdout"
        }
      ]
    },
    {
      "cell_type": "markdown",
      "metadata": {
        "id": "4GPk50VHd0TX"
      },
      "source": [
        "## Second solution: Compare count of characters on the fly"
      ]
    },
    {
      "cell_type": "code",
      "metadata": {
        "id": "Jtyl1VSYtwcp"
      },
      "source": [
        "# We will reuse the same function as before to obtain the dictionary of the SmallString\r\n",
        "\r\n",
        "# Given a string, compute a dictionary with the count of its characters\r\n",
        "def small_string_to_dict(string):\r\n",
        "  count_chars = {}\r\n",
        "  for char in string:\r\n",
        "    count_chars[char] = count_chars.get(char, 0) + 1\r\n",
        "  return count_chars"
      ],
      "execution_count": 12,
      "outputs": []
    },
    {
      "cell_type": "code",
      "metadata": {
        "id": "2m44_nLPeOxZ"
      },
      "source": [
        "# Compute the next dictionary and compare with the one of the SmallString at the same time\r\n",
        "def compare_dict_online(small_dict, subString):\r\n",
        "  permutation = True\r\n",
        "  count_chars = {}\r\n",
        "  \r\n",
        "  for char in subString:\r\n",
        "    # If we find a character that doesnt belong to the smallString-> No permutation\r\n",
        "    if small_dict.get(char,0) == 0:\r\n",
        "      permutation = False\r\n",
        "      break\r\n",
        "    else:\r\n",
        "      count_chars[char] = count_chars.get(char, 0) + 1\r\n",
        "      # if this counter is superior to the one in the SmallString -> No permutation\r\n",
        "      if count_chars[char] > small_dict[char]:\r\n",
        "        permutation = False\r\n",
        "        break\r\n",
        "  return permutation"
      ],
      "execution_count": 13,
      "outputs": []
    },
    {
      "cell_type": "code",
      "metadata": {
        "colab": {
          "base_uri": "https://localhost:8080/"
        },
        "id": "tu5zECZ6fxC-",
        "outputId": "e35f3ed5-5ec9-485b-9487-b425d9e35e59"
      },
      "source": [
        "# Given a BigString and SmallString, compute the number of permutations\r\n",
        "def main_2(BigString, SmallString):\r\n",
        "  num_permutations = 0\r\n",
        "  small_dict = small_string_to_dict(SmallString)\r\n",
        "\r\n",
        "  for idx_char, _ in enumerate(BigString):\r\n",
        "    if idx_char <= (len(BigString)-len(SmallString)):\r\n",
        "      subString = BigString[idx_char:idx_char+len(SmallString)]\r\n",
        "\r\n",
        "      if compare_dict_online(small_dict, subString):\r\n",
        "        num_permutations += 1\r\n",
        "\r\n",
        "  return num_permutations\r\n",
        "\r\n",
        "print(main_2(BigString, SmallString))"
      ],
      "execution_count": 29,
      "outputs": [
        {
          "output_type": "stream",
          "text": [
            "7\n"
          ],
          "name": "stdout"
        }
      ]
    }
  ]
}