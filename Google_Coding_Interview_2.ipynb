{
  "nbformat": 4,
  "nbformat_minor": 0,
  "metadata": {
    "colab": {
      "name": "Google Coding Interview 2.ipynb",
      "provenance": [],
      "collapsed_sections": [],
      "authorship_tag": "ABX9TyOkRw8nTr27Ot6PUvZKbz0m",
      "include_colab_link": true
    },
    "kernelspec": {
      "name": "python3",
      "display_name": "Python 3"
    }
  },
  "cells": [
    {
      "cell_type": "markdown",
      "metadata": {
        "id": "view-in-github",
        "colab_type": "text"
      },
      "source": [
        "<a href=\"https://colab.research.google.com/github/jasoromir/Coding_Interviews/blob/main/Google_Coding_Interview_2.ipynb\" target=\"_parent\"><img src=\"https://colab.research.google.com/assets/colab-badge.svg\" alt=\"Open In Colab\"/></a>"
      ]
    },
    {
      "cell_type": "markdown",
      "metadata": {
        "id": "nwayNgy7mh6d"
      },
      "source": [
        "# Big String & Small String"
      ]
    },
    {
      "cell_type": "code",
      "metadata": {
        "id": "OkI6yhFBYpue"
      },
      "source": [
        "BigString = 'cbabcacabca'\r\n",
        "SmallString = 'abc'\r\n",
        "# Find number of permutations of the SmallString in the Big String\r\n",
        "# Solution: 6 // cba, abc, bca, cab, abc, bca (they can be repeated)"
      ],
      "execution_count": 10,
      "outputs": []
    },
    {
      "cell_type": "code",
      "metadata": {
        "id": "L0Lq59NYbtNb"
      },
      "source": [
        "\r\n",
        "def string_to_dict(string):\r\n",
        "  count_chars = {}\r\n",
        "  for char in string:\r\n",
        "    count_chars[char] = count_chars.get(char, 0) + 1\r\n",
        "  return count_chars\r\n",
        "\r\n",
        "small_dict = string_to_dict(SmallString)"
      ],
      "execution_count": 32,
      "outputs": []
    },
    {
      "cell_type": "code",
      "metadata": {
        "id": "QKta_GERadNE"
      },
      "source": [
        "def compare_dict(small_dict, sub_dict):\r\n",
        "  permutation = True\r\n",
        "  for char, count in small_dict.items():\r\n",
        "    if sub_dict.get(char,0) != count:\r\n",
        "      permutation = False\r\n",
        "      break\r\n",
        "  return permutation"
      ],
      "execution_count": 35,
      "outputs": []
    },
    {
      "cell_type": "code",
      "metadata": {
        "colab": {
          "base_uri": "https://localhost:8080/"
        },
        "id": "U4__sacTbGNU",
        "outputId": "84a87ae2-5d54-4bed-d3f3-5ed86b96676b"
      },
      "source": [
        "num_permutations = 0\r\n",
        "small_dict = string_to_dict(SmallString)\r\n",
        "\r\n",
        "for idx_char, _ in enumerate(BigString):\r\n",
        "  if idx_char <= (len(BigString)-len(SmallString)):\r\n",
        "    subString = BigString[idx_char:idx_char+len(SmallString)]\r\n",
        "    sub_dict = string_to_dict(subString)\r\n",
        "\r\n",
        "    if compare_dict(small_dict, sub_dict):\r\n",
        "      num_permutations += 1\r\n",
        "\r\n",
        "print(num_permutations)"
      ],
      "execution_count": 36,
      "outputs": [
        {
          "output_type": "stream",
          "text": [
            "6\n"
          ],
          "name": "stdout"
        }
      ]
    },
    {
      "cell_type": "code",
      "metadata": {
        "id": "Jtyl1VSYtwcp"
      },
      "source": [
        ""
      ],
      "execution_count": null,
      "outputs": []
    }
  ]
}